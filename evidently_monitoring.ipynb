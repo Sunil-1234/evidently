{
 "cells": [
  {
   "cell_type": "raw",
   "id": "ac3e6e7d",
   "metadata": {},
   "source": [
    "---\n",
    "title: VMONITOR\n",
    "description: Data Drift Detection in classification task\n",
    "show-code: False\n",
    "params:\n",
    "    new_samples:\n",
    "        input: slider\n",
    "        value: 25\n",
    "        label: New samples count\n",
    "        min: 10\n",
    "        max: 75\n",
    "    verbose:\n",
    "        input: checkbox\n",
    "        value: False\n",
    "        label: Verbose \n",
    "---"
   ]
  },
  {
   "cell_type": "code",
   "execution_count": null,
   "id": "6ecae863",
   "metadata": {},
   "outputs": [],
   "source": [
    "import warnings\n",
    "warnings.filterwarnings('ignore')\n",
    "#import streamlit as st\n",
    "from IPython.display import display"
   ]
  },
  {
   "cell_type": "code",
   "execution_count": null,
   "id": "59d47fe2",
   "metadata": {},
   "outputs": [],
   "source": [
    "from evidently.dashboard import Dashboard\n",
    "from evidently.dashboard.tabs import DataDriftTab, CatTargetDriftTab,NumTargetDriftTab,ClassificationPerformanceTab\n",
    "from evidently import ColumnMapping\n",
    "from evidently.model_profile import Profile\n",
    "from evidently.model_profile.sections import DataDriftProfileSection, CatTargetDriftProfileSection"
   ]
  },
  {
   "cell_type": "code",
   "execution_count": null,
   "id": "b1fb473f",
   "metadata": {},
   "outputs": [],
   "source": [
    "import pandas as pd\n",
    "import numpy as np"
   ]
  },
  {
   "cell_type": "code",
   "execution_count": null,
   "id": "0cee2885",
   "metadata": {},
   "outputs": [],
   "source": [
    "import matplotlib.pyplot as plt"
   ]
  },
  {
   "cell_type": "code",
   "execution_count": null,
   "id": "f7122e42",
   "metadata": {},
   "outputs": [],
   "source": [
    "df=pd.read_csv('https://github.com/Sunil-1234/evidently.git/Kipu_biasing_processed.csv')"
   ]
  },
  {
   "cell_type": "code",
   "execution_count": null,
   "id": "9171b2d1",
   "metadata": {},
   "outputs": [],
   "source": [
    "df.head()"
   ]
  },
  {
   "cell_type": "code",
   "execution_count": null,
   "id": "66de4dbb",
   "metadata": {},
   "outputs": [],
   "source": [
    "df.shape"
   ]
  },
  {
   "cell_type": "code",
   "execution_count": null,
   "id": "8c37ec6c",
   "metadata": {
    "scrolled": true
   },
   "outputs": [],
   "source": [
    "user_data_drift_test = df[['gender','ethnicity'\t,'addressstate',  'age']]\n",
    "user_data_drift_dashboard = Dashboard(tabs=[DataDriftTab(verbose_level=1)])\n",
    "user_data_drift_dashboard.calculate(user_data_drift_test[:3000],  user_data_drift_test[3000:], column_mapping=None)\n",
    "user_data_drift_dashboard.show(mode='inline')\n",
    "#user_data_drift_dashboard.save('stroke_data_drift_dashboard.html')"
   ]
  },
  {
   "cell_type": "code",
   "execution_count": null,
   "id": "9784f638",
   "metadata": {},
   "outputs": [],
   "source": [
    "target_column_mapping = ColumnMapping()\n",
    "target_column_mapping.target = 'target'\n",
    "target_column_mapping.numerical_features = []\n",
    "ref_data_sample = df[:3000].sample(1000, random_state=0)\n",
    "prod_data_sample = df[3000:].sample(1000, random_state=0)\n",
    "rating_target_drift_dashboard = Dashboard(tabs=[CatTargetDriftTab(verbose_level=1)])\n",
    "rating_target_drift_dashboard.calculate(ref_data_sample, prod_data_sample, column_mapping=target_column_mapping)\n",
    "rating_target_drift_dashboard.show(mode='inline')\n"
   ]
  },
  {
   "cell_type": "code",
   "execution_count": null,
   "id": "d5f5cc9e",
   "metadata": {},
   "outputs": [],
   "source": [
    "ele = -1\n",
    "def sunil(x, dic):\n",
    "    global ele\n",
    "    if x in dic.keys():\n",
    "        return dic[x]\n",
    "    else:\n",
    "        ele += 1\n",
    "        dic[x] = ele\n",
    "        return dic[x]\n",
    "    \n",
    "def somil(df):\n",
    "    mapped = dict()\n",
    "    df.dropna(inplace=True)\n",
    "    for column in df.columns:\n",
    "        if df[column].dtype == 'O':\n",
    "            global ele\n",
    "            ele = 0\n",
    "            dic = dict()\n",
    "            df[column] = df[column].apply(lambda x: sunil(x, dic))\n",
    "            dic = {v:k for k, v in dic.items()}\n",
    "            mapped[column] = dic\n",
    "    return mapped"
   ]
  },
  {
   "cell_type": "code",
   "execution_count": null,
   "id": "597fe54e",
   "metadata": {},
   "outputs": [],
   "source": [
    "import pandas as pd\n",
    "df=pd.read_csv('kipu_biasing_processed.csv')\n",
    "dic=somil(df)\n",
    "X=df.drop(['patientmasterkey','target','cpt_code','level_of_care','diagcodename'],axis=1)\n",
    "y=df[['target']]\n",
    "#dic=somil(df)\n",
    "target = 'target'\n",
    "prediction = 'prediction'\n",
    "numerical_features =X.select_dtypes(include=[\"int\",'float']).columns.tolist()\n",
    "categorical_features = X.select_dtypes(include=[\"object\"]).columns.tolist()"
   ]
  },
  {
   "cell_type": "code",
   "execution_count": null,
   "id": "1ee97cd3",
   "metadata": {},
   "outputs": [],
   "source": [
    "def reverse_encode(dic, df):\n",
    "    for key in dic.keys():\n",
    "        df[key] = df[key].apply(lambda x: dic[key][x])"
   ]
  },
  {
   "cell_type": "code",
   "execution_count": null,
   "id": "f1b6991d",
   "metadata": {
    "scrolled": false
   },
   "outputs": [],
   "source": [
    "from sklearn import  ensemble\n",
    "from evidently.pipeline.column_mapping import ColumnMapping\n",
    "from evidently.dashboard import Dashboard\n",
    "\n",
    "from evidently.dashboard.tabs import DataDriftTab, NumTargetDriftTab, RegressionPerformanceTab\n",
    "reference = df.loc[:15000]\n",
    "current=df.loc[15000:]\n",
    "\n",
    "\n",
    "regressor = ensemble.RandomForestClassifier(random_state = 0, n_estimators = 50)\n",
    "regressor.fit(reference[numerical_features + categorical_features], reference[target])\n",
    "ref_prediction = regressor.predict(reference[numerical_features + categorical_features])\n",
    "current_prediction = regressor.predict(current[numerical_features + categorical_features])\n",
    "current_predprob=regressor.predict_proba(current[numerical_features + categorical_features])\n",
    "reference['prediction'] = ref_prediction\n",
    "current['prediction'] = current_prediction\n",
    "\n",
    "\n",
    "pred_prob=[]\n",
    "for i in range(0,current.shape[0]):\n",
    "    #print(i)\n",
    "    pred_prob.insert(i,current_predprob[i][1])\n",
    "current['pred_prob'] =pred_prob\n",
    "\n",
    "\n"
   ]
  },
  {
   "cell_type": "code",
   "execution_count": null,
   "id": "e9c3a4e2",
   "metadata": {
    "scrolled": true
   },
   "outputs": [],
   "source": [
    "column_mapping = ColumnMapping()\n",
    "reverse_encode(dic,reference)\n",
    "reverse_encode(dic,current)\n",
    "# reference=reference.astype('str')\n",
    "# current=current.astype('str')\n",
    "column_mapping.target = target\n",
    "column_mapping.prediction = prediction\n",
    "column_mapping.numerical_features = numerical_features\n",
    "#column_mapping.categorical_features = categorical_features\n",
    "\n",
    "regression_perfomance_dashboard = Dashboard(tabs=[ClassificationPerformanceTab(verbose_level=1)])\n",
    "regression_perfomance_dashboard.calculate(reference.astype('str'), current.astype('str'), column_mapping=column_mapping)\n",
    "\n",
    "regression_perfomance_dashboard.show(mode='inline')"
   ]
  },
  {
   "cell_type": "code",
   "execution_count": null,
   "id": "f3ac1ed5",
   "metadata": {},
   "outputs": [],
   "source": [
    "#current.loc[current['age'] < 20, 'stroke_risk'] = [np.random.uniform(0.0, 0.2) for i in range(196)]"
   ]
  },
  {
   "cell_type": "code",
   "execution_count": null,
   "id": "53648de0",
   "metadata": {},
   "outputs": [],
   "source": [
    "import seaborn as sns\n",
    "data=current[['age','target']][300:400]\n",
    "#print(data.shape)\n",
    "plt.rcParams[\"figure.figsize\"] = (20,3)\n",
    "#plt.xticks(data['age'][::20])  \n",
    "sns.lineplot(x='age',y='target',data=data)\n",
    "plt.show()"
   ]
  },
  {
   "cell_type": "code",
   "execution_count": null,
   "id": "49553099",
   "metadata": {},
   "outputs": [],
   "source": []
  }
 ],
 "metadata": {
  "kernelspec": {
   "display_name": "Python 3 (ipykernel)",
   "language": "python",
   "name": "python3"
  },
  "language_info": {
   "codemirror_mode": {
    "name": "ipython",
    "version": 3
   },
   "file_extension": ".py",
   "mimetype": "text/x-python",
   "name": "python",
   "nbconvert_exporter": "python",
   "pygments_lexer": "ipython3",
   "version": "3.9.12"
  }
 },
 "nbformat": 4,
 "nbformat_minor": 5
}
